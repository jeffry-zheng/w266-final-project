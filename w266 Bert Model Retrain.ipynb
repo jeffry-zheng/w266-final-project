{
 "cells": [
  {
   "cell_type": "code",
   "execution_count": 70,
   "metadata": {},
   "outputs": [],
   "source": [
    "import os\n",
    "import numpy as np\n",
    "import seaborn as sns\n",
    "import matplotlib.pyplot as plt\n",
    "from matplotlib.ticker import MaxNLocator\n",
    "\n",
    "from sklearn.model_selection import train_test_split\n",
    "from sklearn.preprocessing import LabelEncoder\n",
    "from sklearn.preprocessing import OneHotEncoder\n",
    "from sklearn.feature_extraction.text import CountVectorizer\n",
    "from sklearn.metrics import confusion_matrix, classification_report\n",
    "\n",
    "import tensorflow as tf\n",
    "from tensorflow import keras\n",
    "from tensorflow.keras import layers\n",
    "from tensorflow.keras.backend import sparse_categorical_crossentropy\n",
    "from tensorflow.keras.layers import Dense, Flatten\n",
    "from tensorflow.keras.preprocessing.text import Tokenizer\n",
    "\n",
    "from transformers import BertTokenizer, TFBertModel\n",
    "\n",
    "from bert.tokenization.bert_tokenization import FullTokenizer\n",
    "\n",
    "\n",
    "import re\n",
    "import nltk\n",
    "from nltk.tokenize import word_tokenize\n",
    "from nltk.corpus import stopwords\n",
    "sw = stopwords.words('english')"
   ]
  },
  {
   "cell_type": "markdown",
   "metadata": {},
   "source": [
    "# Initial EDA"
   ]
  },
  {
   "cell_type": "code",
   "execution_count": 2,
   "metadata": {},
   "outputs": [
    {
     "data": {
      "text/plain": [
       "(129971, 14)"
      ]
     },
     "execution_count": 2,
     "metadata": {},
     "output_type": "execute_result"
    }
   ],
   "source": [
    "# Reading in dataset\n",
    "import pandas as pd\n",
    "all_data = pd.read_csv(\"winemag-data-130k-v2.csv\")\n",
    "all_data.shape"
   ]
  },
  {
   "cell_type": "markdown",
   "metadata": {},
   "source": [
    "There are 129,971 wine reviews on our data set."
   ]
  },
  {
   "cell_type": "code",
   "execution_count": 3,
   "metadata": {
    "scrolled": true
   },
   "outputs": [
    {
     "data": {
      "text/html": [
       "<div>\n",
       "<style scoped>\n",
       "    .dataframe tbody tr th:only-of-type {\n",
       "        vertical-align: middle;\n",
       "    }\n",
       "\n",
       "    .dataframe tbody tr th {\n",
       "        vertical-align: top;\n",
       "    }\n",
       "\n",
       "    .dataframe thead th {\n",
       "        text-align: right;\n",
       "    }\n",
       "</style>\n",
       "<table border=\"1\" class=\"dataframe\">\n",
       "  <thead>\n",
       "    <tr style=\"text-align: right;\">\n",
       "      <th></th>\n",
       "      <th>Unnamed: 0</th>\n",
       "      <th>country</th>\n",
       "      <th>description</th>\n",
       "      <th>designation</th>\n",
       "      <th>points</th>\n",
       "      <th>price</th>\n",
       "      <th>province</th>\n",
       "      <th>region_1</th>\n",
       "      <th>region_2</th>\n",
       "      <th>taster_name</th>\n",
       "      <th>taster_twitter_handle</th>\n",
       "      <th>title</th>\n",
       "      <th>variety</th>\n",
       "      <th>winery</th>\n",
       "    </tr>\n",
       "  </thead>\n",
       "  <tbody>\n",
       "    <tr>\n",
       "      <th>0</th>\n",
       "      <td>0</td>\n",
       "      <td>Italy</td>\n",
       "      <td>Aromas include tropical fruit, broom, brimston...</td>\n",
       "      <td>Vulkà Bianco</td>\n",
       "      <td>87</td>\n",
       "      <td>NaN</td>\n",
       "      <td>Sicily &amp; Sardinia</td>\n",
       "      <td>Etna</td>\n",
       "      <td>NaN</td>\n",
       "      <td>Kerin O’Keefe</td>\n",
       "      <td>@kerinokeefe</td>\n",
       "      <td>Nicosia 2013 Vulkà Bianco  (Etna)</td>\n",
       "      <td>White Blend</td>\n",
       "      <td>Nicosia</td>\n",
       "    </tr>\n",
       "    <tr>\n",
       "      <th>1</th>\n",
       "      <td>1</td>\n",
       "      <td>Portugal</td>\n",
       "      <td>This is ripe and fruity, a wine that is smooth...</td>\n",
       "      <td>Avidagos</td>\n",
       "      <td>87</td>\n",
       "      <td>15.0</td>\n",
       "      <td>Douro</td>\n",
       "      <td>NaN</td>\n",
       "      <td>NaN</td>\n",
       "      <td>Roger Voss</td>\n",
       "      <td>@vossroger</td>\n",
       "      <td>Quinta dos Avidagos 2011 Avidagos Red (Douro)</td>\n",
       "      <td>Portuguese Red</td>\n",
       "      <td>Quinta dos Avidagos</td>\n",
       "    </tr>\n",
       "  </tbody>\n",
       "</table>\n",
       "</div>"
      ],
      "text/plain": [
       "   Unnamed: 0   country                                        description  \\\n",
       "0           0     Italy  Aromas include tropical fruit, broom, brimston...   \n",
       "1           1  Portugal  This is ripe and fruity, a wine that is smooth...   \n",
       "\n",
       "    designation  points  price           province region_1 region_2  \\\n",
       "0  Vulkà Bianco      87    NaN  Sicily & Sardinia     Etna      NaN   \n",
       "1      Avidagos      87   15.0              Douro      NaN      NaN   \n",
       "\n",
       "     taster_name taster_twitter_handle  \\\n",
       "0  Kerin O’Keefe          @kerinokeefe   \n",
       "1     Roger Voss            @vossroger   \n",
       "\n",
       "                                           title         variety  \\\n",
       "0              Nicosia 2013 Vulkà Bianco  (Etna)     White Blend   \n",
       "1  Quinta dos Avidagos 2011 Avidagos Red (Douro)  Portuguese Red   \n",
       "\n",
       "                winery  \n",
       "0              Nicosia  \n",
       "1  Quinta dos Avidagos  "
      ]
     },
     "execution_count": 3,
     "metadata": {},
     "output_type": "execute_result"
    }
   ],
   "source": [
    "all_data.head(2)"
   ]
  },
  {
   "cell_type": "code",
   "execution_count": 4,
   "metadata": {
    "scrolled": true
   },
   "outputs": [
    {
     "data": {
      "text/html": [
       "<div>\n",
       "<style scoped>\n",
       "    .dataframe tbody tr th:only-of-type {\n",
       "        vertical-align: middle;\n",
       "    }\n",
       "\n",
       "    .dataframe tbody tr th {\n",
       "        vertical-align: top;\n",
       "    }\n",
       "\n",
       "    .dataframe thead th {\n",
       "        text-align: right;\n",
       "    }\n",
       "</style>\n",
       "<table border=\"1\" class=\"dataframe\">\n",
       "  <thead>\n",
       "    <tr style=\"text-align: right;\">\n",
       "      <th></th>\n",
       "      <th>description</th>\n",
       "      <th>variety</th>\n",
       "    </tr>\n",
       "  </thead>\n",
       "  <tbody>\n",
       "    <tr>\n",
       "      <th>0</th>\n",
       "      <td>Aromas include tropical fruit, broom, brimston...</td>\n",
       "      <td>White Blend</td>\n",
       "    </tr>\n",
       "    <tr>\n",
       "      <th>1</th>\n",
       "      <td>This is ripe and fruity, a wine that is smooth...</td>\n",
       "      <td>Portuguese Red</td>\n",
       "    </tr>\n",
       "    <tr>\n",
       "      <th>2</th>\n",
       "      <td>Tart and snappy, the flavors of lime flesh and...</td>\n",
       "      <td>Pinot Gris</td>\n",
       "    </tr>\n",
       "    <tr>\n",
       "      <th>3</th>\n",
       "      <td>Pineapple rind, lemon pith and orange blossom ...</td>\n",
       "      <td>Riesling</td>\n",
       "    </tr>\n",
       "    <tr>\n",
       "      <th>4</th>\n",
       "      <td>Much like the regular bottling from 2012, this...</td>\n",
       "      <td>Pinot Noir</td>\n",
       "    </tr>\n",
       "  </tbody>\n",
       "</table>\n",
       "</div>"
      ],
      "text/plain": [
       "                                         description         variety\n",
       "0  Aromas include tropical fruit, broom, brimston...     White Blend\n",
       "1  This is ripe and fruity, a wine that is smooth...  Portuguese Red\n",
       "2  Tart and snappy, the flavors of lime flesh and...      Pinot Gris\n",
       "3  Pineapple rind, lemon pith and orange blossom ...        Riesling\n",
       "4  Much like the regular bottling from 2012, this...      Pinot Noir"
      ]
     },
     "execution_count": 4,
     "metadata": {},
     "output_type": "execute_result"
    }
   ],
   "source": [
    "# Using just the description and variety of wine\n",
    "dv_data = all_data[['description', 'variety']]\n",
    "dv_data.head()"
   ]
  },
  {
   "cell_type": "code",
   "execution_count": 5,
   "metadata": {},
   "outputs": [
    {
     "data": {
      "text/plain": [
       "(Pinot Noir                  13272\n",
       " Chardonnay                  11753\n",
       " Cabernet Sauvignon           9472\n",
       " Red Blend                    8946\n",
       " Bordeaux-style Red Blend     6915\n",
       " Riesling                     5189\n",
       " Sauvignon Blanc              4967\n",
       " Syrah                        4142\n",
       " Rosé                         3564\n",
       " Merlot                       3102\n",
       " Name: variety, dtype: int64,\n",
       " 707)"
      ]
     },
     "execution_count": 5,
     "metadata": {},
     "output_type": "execute_result"
    }
   ],
   "source": [
    "# Top 10 most reviewed varieties\n",
    "variety_count = dv_data.variety.value_counts()\n",
    "variety_count.head(10), len(variety_count)"
   ]
  },
  {
   "cell_type": "markdown",
   "metadata": {},
   "source": [
    "There are 707 different varieties of wine in our data set."
   ]
  },
  {
   "cell_type": "code",
   "execution_count": 6,
   "metadata": {},
   "outputs": [
    {
     "data": {
      "text/plain": [
       "['Pinot Noir',\n",
       " 'Chardonnay',\n",
       " 'Cabernet Sauvignon',\n",
       " 'Red Blend',\n",
       " 'Bordeaux-style Red Blend',\n",
       " 'Riesling',\n",
       " 'Sauvignon Blanc',\n",
       " 'Syrah',\n",
       " 'Rosé',\n",
       " 'Merlot']"
      ]
     },
     "execution_count": 6,
     "metadata": {},
     "output_type": "execute_result"
    }
   ],
   "source": [
    "classes = variety_count.index[:10].tolist()\n",
    "classes"
   ]
  },
  {
   "cell_type": "code",
   "execution_count": 7,
   "metadata": {},
   "outputs": [
    {
     "data": {
      "text/html": [
       "<div>\n",
       "<style scoped>\n",
       "    .dataframe tbody tr th:only-of-type {\n",
       "        vertical-align: middle;\n",
       "    }\n",
       "\n",
       "    .dataframe tbody tr th {\n",
       "        vertical-align: top;\n",
       "    }\n",
       "\n",
       "    .dataframe thead th {\n",
       "        text-align: right;\n",
       "    }\n",
       "</style>\n",
       "<table border=\"1\" class=\"dataframe\">\n",
       "  <thead>\n",
       "    <tr style=\"text-align: right;\">\n",
       "      <th></th>\n",
       "      <th>description</th>\n",
       "      <th>variety</th>\n",
       "    </tr>\n",
       "  </thead>\n",
       "  <tbody>\n",
       "    <tr>\n",
       "      <th>3</th>\n",
       "      <td>Pineapple rind, lemon pith and orange blossom ...</td>\n",
       "      <td>Riesling</td>\n",
       "    </tr>\n",
       "    <tr>\n",
       "      <th>4</th>\n",
       "      <td>Much like the regular bottling from 2012, this...</td>\n",
       "      <td>Pinot Noir</td>\n",
       "    </tr>\n",
       "    <tr>\n",
       "      <th>10</th>\n",
       "      <td>Soft, supple plum envelopes an oaky structure ...</td>\n",
       "      <td>Cabernet Sauvignon</td>\n",
       "    </tr>\n",
       "    <tr>\n",
       "      <th>12</th>\n",
       "      <td>Slightly reduced, this wine offers a chalky, t...</td>\n",
       "      <td>Cabernet Sauvignon</td>\n",
       "    </tr>\n",
       "    <tr>\n",
       "      <th>14</th>\n",
       "      <td>Building on 150 years and six generations of w...</td>\n",
       "      <td>Chardonnay</td>\n",
       "    </tr>\n",
       "  </tbody>\n",
       "</table>\n",
       "</div>"
      ],
      "text/plain": [
       "                                          description             variety\n",
       "3   Pineapple rind, lemon pith and orange blossom ...            Riesling\n",
       "4   Much like the regular bottling from 2012, this...          Pinot Noir\n",
       "10  Soft, supple plum envelopes an oaky structure ...  Cabernet Sauvignon\n",
       "12  Slightly reduced, this wine offers a chalky, t...  Cabernet Sauvignon\n",
       "14  Building on 150 years and six generations of w...          Chardonnay"
      ]
     },
     "execution_count": 7,
     "metadata": {},
     "output_type": "execute_result"
    }
   ],
   "source": [
    "# Selecting wine reviews for top 10 varieties only\n",
    "variety_mask = dv_data['variety'].isin(classes)\n",
    "data = dv_data[variety_mask]\n",
    "data.head()"
   ]
  },
  {
   "cell_type": "code",
   "execution_count": 8,
   "metadata": {},
   "outputs": [
    {
     "data": {
      "image/png": "[encoded data removed]",
      "text/plain": [
       "<Figure size 432x288 with 1 Axes>"
      ]
     },
     "metadata": {
      "needs_background": "light"
     },
     "output_type": "display_data"
    }
   ],
   "source": [
    "chart = sns.countplot(data.variety)\n",
    "plt.title(\"Number of descriptions per Variety\")\n",
    "chart.set_xticklabels(chart.get_xticklabels(), rotation=30, horizontalalignment='right');"
   ]
  },
  {
   "cell_type": "code",
   "execution_count": 9,
   "metadata": {},
   "outputs": [
    {
     "name": "stdout",
     "output_type": "stream",
     "text": [
      "Number of Merlot reviews: 3102\n"
     ]
    }
   ],
   "source": [
    "# Merlot is the variety of wine with the least amount of reviews in our dataset\n",
    "print(\"Number of Merlot reviews:\", sum(data['variety'] == \"Merlot\"))"
   ]
  },
  {
   "cell_type": "code",
   "execution_count": 10,
   "metadata": {},
   "outputs": [],
   "source": [
    "# Sampling reviews of the top 10 varieties to create a uniform dataset\n",
    "df = data[data['variety'] == 'Merlot']\n",
    "for i in variety_count.index[:9]:\n",
    "    df = df.append(data[data['variety'] == i].sample(n=sum(data['variety'] == \"Merlot\"), random_state = 32))"
   ]
  },
  {
   "cell_type": "code",
   "execution_count": 11,
   "metadata": {},
   "outputs": [
    {
     "data": {
      "image/png": "[encoded data removed]",
      "text/plain": [
       "<Figure size 432x288 with 1 Axes>"
      ]
     },
     "metadata": {
      "needs_background": "light"
     },
     "output_type": "display_data"
    }
   ],
   "source": [
    "chart = sns.countplot(df.variety)\n",
    "plt.title(\"Number of descriptions per Variety (uniform)\")\n",
    "chart.set_xticklabels(chart.get_xticklabels(), rotation=30, horizontalalignment='right');"
   ]
  },
  {
   "cell_type": "markdown",
   "metadata": {},
   "source": [
    "# Data Preprocessing\n"
   ]
  },
  {
   "cell_type": "code",
   "execution_count": 12,
   "metadata": {},
   "outputs": [],
   "source": [
    "# Integer encode variety labels\n",
    "label_encoder = LabelEncoder()\n",
    "variety_encoded = label_encoder.fit_transform(df.variety)"
   ]
  },
  {
   "cell_type": "code",
   "execution_count": 14,
   "metadata": {},
   "outputs": [],
   "source": [
    "# Splitting the dataset\n",
    "X_train, X_test, y_train, y_test = train_test_split(df.description, variety_encoded, test_size = 0.25, random_state = 88)"
   ]
  },
  {
   "cell_type": "code",
   "execution_count": 15,
   "metadata": {},
   "outputs": [],
   "source": [
    "train_df = pd.DataFrame({'text': X_train, 'labels': y_train})\n",
    "test_df = pd.DataFrame({'text': X_test, 'labels': y_test})"
   ]
  },
  {
   "cell_type": "code",
   "execution_count": 16,
   "metadata": {
    "scrolled": true
   },
   "outputs": [
    {
     "data": {
      "text/html": [
       "<div>\n",
       "<style scoped>\n",
       "    .dataframe tbody tr th:only-of-type {\n",
       "        vertical-align: middle;\n",
       "    }\n",
       "\n",
       "    .dataframe tbody tr th {\n",
       "        vertical-align: top;\n",
       "    }\n",
       "\n",
       "    .dataframe thead th {\n",
       "        text-align: right;\n",
       "    }\n",
       "</style>\n",
       "<table border=\"1\" class=\"dataframe\">\n",
       "  <thead>\n",
       "    <tr style=\"text-align: right;\">\n",
       "      <th></th>\n",
       "      <th>text</th>\n",
       "      <th>labels</th>\n",
       "    </tr>\n",
       "  </thead>\n",
       "  <tbody>\n",
       "    <tr>\n",
       "      <th>30035</th>\n",
       "      <td>This wine is full in the mouth, with swathes o...</td>\n",
       "      <td>2</td>\n",
       "    </tr>\n",
       "    <tr>\n",
       "      <th>71761</th>\n",
       "      <td>Blended with smaller amounts of Merlot and Pet...</td>\n",
       "      <td>1</td>\n",
       "    </tr>\n",
       "  </tbody>\n",
       "</table>\n",
       "</div>"
      ],
      "text/plain": [
       "                                                    text  labels\n",
       "30035  This wine is full in the mouth, with swathes o...       2\n",
       "71761  Blended with smaller amounts of Merlot and Pet...       1"
      ]
     },
     "execution_count": 16,
     "metadata": {},
     "output_type": "execute_result"
    }
   ],
   "source": [
    "train_df.head(2)"
   ]
  },
  {
   "cell_type": "markdown",
   "metadata": {},
   "source": [
    "#### Tokenizing text"
   ]
  },
  {
   "cell_type": "code",
   "execution_count": 18,
   "metadata": {},
   "outputs": [],
   "source": [
    "tokenizer = BertTokenizer.from_pretrained('bert-base-uncased')"
   ]
  },
  {
   "cell_type": "code",
   "execution_count": 19,
   "metadata": {},
   "outputs": [],
   "source": [
    "def tokenize_text(text):\n",
    "    ids = []\n",
    "    sentence_len = []\n",
    "    for i in range(len(text.values)):\n",
    "      token_ids = tokenizer.encode(text.values[i])\n",
    "      ids.append(token_ids)\n",
    "      sentence_len.append(len(token_ids))\n",
    "    return ids, sentence_len"
   ]
  },
  {
   "cell_type": "code",
   "execution_count": 20,
   "metadata": {},
   "outputs": [],
   "source": [
    "train_df['token_ids'], train_df['sentence_len'] = tokenize_text(train_df.text)\n",
    "test_df['token_ids'], test_df['sentence_len'] = tokenize_text(test_df.text)\n"
   ]
  },
  {
   "cell_type": "markdown",
   "metadata": {},
   "source": [
    "#### Padding text"
   ]
  },
  {
   "cell_type": "code",
   "execution_count": 21,
   "metadata": {},
   "outputs": [],
   "source": [
    "def pad_text(df):\n",
    "    x = []\n",
    "    max_length = max(train_df.sentence_len.values)\n",
    "\n",
    "    for input_ids in df.token_ids.values:\n",
    "      input_ids = input_ids[:min(len(input_ids), max_length - 2)]\n",
    "      input_ids = input_ids + [0] * (max_length - len(input_ids))\n",
    "      x.append(np.array(input_ids))\n",
    "    \n",
    "    return x"
   ]
  },
  {
   "cell_type": "code",
   "execution_count": 22,
   "metadata": {},
   "outputs": [],
   "source": [
    "train_df['padded_ids'] = pad_text(train_df)\n",
    "test_df['padded_ids'] = pad_text(test_df)"
   ]
  },
  {
   "cell_type": "code",
   "execution_count": 23,
   "metadata": {},
   "outputs": [
    {
     "data": {
      "text/plain": [
       "194"
      ]
     },
     "execution_count": 23,
     "metadata": {},
     "output_type": "execute_result"
    }
   ],
   "source": [
    "len(train_df.padded_ids.iloc[0])"
   ]
  },
  {
   "cell_type": "markdown",
   "metadata": {},
   "source": [
    "#### Masked Inputs"
   ]
  },
  {
   "cell_type": "code",
   "execution_count": 24,
   "metadata": {},
   "outputs": [],
   "source": [
    "def mask_padded_input(df):\n",
    "    x = []\n",
    "\n",
    "    for padded_ids in df.padded_ids.values:\n",
    "      masked = np.where(padded_ids != 0, 1, 0)\n",
    "      x.append(np.array(masked))\n",
    "    \n",
    "    return x"
   ]
  },
  {
   "cell_type": "code",
   "execution_count": 25,
   "metadata": {
    "scrolled": false
   },
   "outputs": [],
   "source": [
    "train_df['masked'] = mask_padded_input(train_df)\n",
    "test_df['masked'] = mask_padded_input(test_df)"
   ]
  },
  {
   "cell_type": "code",
   "execution_count": 26,
   "metadata": {
    "scrolled": true
   },
   "outputs": [
    {
     "data": {
      "text/html": [
       "<div>\n",
       "<style scoped>\n",
       "    .dataframe tbody tr th:only-of-type {\n",
       "        vertical-align: middle;\n",
       "    }\n",
       "\n",
       "    .dataframe tbody tr th {\n",
       "        vertical-align: top;\n",
       "    }\n",
       "\n",
       "    .dataframe thead th {\n",
       "        text-align: right;\n",
       "    }\n",
       "</style>\n",
       "<table border=\"1\" class=\"dataframe\">\n",
       "  <thead>\n",
       "    <tr style=\"text-align: right;\">\n",
       "      <th></th>\n",
       "      <th>text</th>\n",
       "      <th>labels</th>\n",
       "      <th>token_ids</th>\n",
       "      <th>sentence_len</th>\n",
       "      <th>padded_ids</th>\n",
       "      <th>masked</th>\n",
       "    </tr>\n",
       "  </thead>\n",
       "  <tbody>\n",
       "    <tr>\n",
       "      <th>30035</th>\n",
       "      <td>This wine is full in the mouth, with swathes o...</td>\n",
       "      <td>2</td>\n",
       "      <td>[101, 2023, 4511, 2003, 2440, 1999, 1996, 2677...</td>\n",
       "      <td>45</td>\n",
       "      <td>[101, 2023, 4511, 2003, 2440, 1999, 1996, 2677...</td>\n",
       "      <td>[1, 1, 1, 1, 1, 1, 1, 1, 1, 1, 1, 1, 1, 1, 1, ...</td>\n",
       "    </tr>\n",
       "    <tr>\n",
       "      <th>71761</th>\n",
       "      <td>Blended with smaller amounts of Merlot and Pet...</td>\n",
       "      <td>1</td>\n",
       "      <td>[101, 19803, 2007, 3760, 8310, 1997, 21442, 10...</td>\n",
       "      <td>50</td>\n",
       "      <td>[101, 19803, 2007, 3760, 8310, 1997, 21442, 10...</td>\n",
       "      <td>[1, 1, 1, 1, 1, 1, 1, 1, 1, 1, 1, 1, 1, 1, 1, ...</td>\n",
       "    </tr>\n",
       "    <tr>\n",
       "      <th>110222</th>\n",
       "      <td>A good Pinot Noir, dry and elegantly structure...</td>\n",
       "      <td>4</td>\n",
       "      <td>[101, 1037, 2204, 9231, 4140, 15587, 1010, 431...</td>\n",
       "      <td>55</td>\n",
       "      <td>[101, 1037, 2204, 9231, 4140, 15587, 1010, 431...</td>\n",
       "      <td>[1, 1, 1, 1, 1, 1, 1, 1, 1, 1, 1, 1, 1, 1, 1, ...</td>\n",
       "    </tr>\n",
       "    <tr>\n",
       "      <th>61596</th>\n",
       "      <td>This structured wine opens with aromas of subt...</td>\n",
       "      <td>5</td>\n",
       "      <td>[101, 2023, 14336, 4511, 7480, 2007, 23958, 20...</td>\n",
       "      <td>54</td>\n",
       "      <td>[101, 2023, 14336, 4511, 7480, 2007, 23958, 20...</td>\n",
       "      <td>[1, 1, 1, 1, 1, 1, 1, 1, 1, 1, 1, 1, 1, 1, 1, ...</td>\n",
       "    </tr>\n",
       "    <tr>\n",
       "      <th>79733</th>\n",
       "      <td>Bees wax and smoke meld with unctuously sweet ...</td>\n",
       "      <td>6</td>\n",
       "      <td>[101, 13734, 13844, 1998, 5610, 11463, 2094, 2...</td>\n",
       "      <td>64</td>\n",
       "      <td>[101, 13734, 13844, 1998, 5610, 11463, 2094, 2...</td>\n",
       "      <td>[1, 1, 1, 1, 1, 1, 1, 1, 1, 1, 1, 1, 1, 1, 1, ...</td>\n",
       "    </tr>\n",
       "  </tbody>\n",
       "</table>\n",
       "</div>"
      ],
      "text/plain": [
       "                                                     text  labels  \\\n",
       "30035   This wine is full in the mouth, with swathes o...       2   \n",
       "71761   Blended with smaller amounts of Merlot and Pet...       1   \n",
       "110222  A good Pinot Noir, dry and elegantly structure...       4   \n",
       "61596   This structured wine opens with aromas of subt...       5   \n",
       "79733   Bees wax and smoke meld with unctuously sweet ...       6   \n",
       "\n",
       "                                                token_ids  sentence_len  \\\n",
       "30035   [101, 2023, 4511, 2003, 2440, 1999, 1996, 2677...            45   \n",
       "71761   [101, 19803, 2007, 3760, 8310, 1997, 21442, 10...            50   \n",
       "110222  [101, 1037, 2204, 9231, 4140, 15587, 1010, 431...            55   \n",
       "61596   [101, 2023, 14336, 4511, 7480, 2007, 23958, 20...            54   \n",
       "79733   [101, 13734, 13844, 1998, 5610, 11463, 2094, 2...            64   \n",
       "\n",
       "                                               padded_ids  \\\n",
       "30035   [101, 2023, 4511, 2003, 2440, 1999, 1996, 2677...   \n",
       "71761   [101, 19803, 2007, 3760, 8310, 1997, 21442, 10...   \n",
       "110222  [101, 1037, 2204, 9231, 4140, 15587, 1010, 431...   \n",
       "61596   [101, 2023, 14336, 4511, 7480, 2007, 23958, 20...   \n",
       "79733   [101, 13734, 13844, 1998, 5610, 11463, 2094, 2...   \n",
       "\n",
       "                                                   masked  \n",
       "30035   [1, 1, 1, 1, 1, 1, 1, 1, 1, 1, 1, 1, 1, 1, 1, ...  \n",
       "71761   [1, 1, 1, 1, 1, 1, 1, 1, 1, 1, 1, 1, 1, 1, 1, ...  \n",
       "110222  [1, 1, 1, 1, 1, 1, 1, 1, 1, 1, 1, 1, 1, 1, 1, ...  \n",
       "61596   [1, 1, 1, 1, 1, 1, 1, 1, 1, 1, 1, 1, 1, 1, 1, ...  \n",
       "79733   [1, 1, 1, 1, 1, 1, 1, 1, 1, 1, 1, 1, 1, 1, 1, ...  "
      ]
     },
     "execution_count": 26,
     "metadata": {},
     "output_type": "execute_result"
    }
   ],
   "source": [
    "train_df.head()"
   ]
  },
  {
   "cell_type": "code",
   "execution_count": 27,
   "metadata": {},
   "outputs": [
    {
     "data": {
      "text/plain": [
       "(2, 23265, 194)"
      ]
     },
     "execution_count": 27,
     "metadata": {},
     "output_type": "execute_result"
    }
   ],
   "source": [
    "train_inputs = np.array([train_df.padded_ids.tolist(), train_df.masked.tolist()])\n",
    "train_inputs.shape"
   ]
  },
  {
   "cell_type": "code",
   "execution_count": 28,
   "metadata": {},
   "outputs": [
    {
     "data": {
      "text/plain": [
       "(2, 7755, 194)"
      ]
     },
     "execution_count": 28,
     "metadata": {},
     "output_type": "execute_result"
    }
   ],
   "source": [
    "test_inputs = np.array([test_df.padded_ids.tolist(), test_df.masked.tolist()])\n",
    "test_inputs.shape"
   ]
  },
  {
   "cell_type": "code",
   "execution_count": 29,
   "metadata": {},
   "outputs": [],
   "source": [
    "train_all = [train_inputs, y_train]\n",
    "test_all = [test_inputs, y_test]"
   ]
  },
  {
   "cell_type": "code",
   "execution_count": 30,
   "metadata": {
    "scrolled": true
   },
   "outputs": [
    {
     "data": {
      "text/plain": [
       "(23265, 194)"
      ]
     },
     "execution_count": 30,
     "metadata": {},
     "output_type": "execute_result"
    }
   ],
   "source": [
    "train_inputs[0].shape"
   ]
  },
  {
   "cell_type": "markdown",
   "metadata": {},
   "source": [
    "# Initial Model Build"
   ]
  },
  {
   "cell_type": "code",
   "execution_count": null,
   "metadata": {},
   "outputs": [],
   "source": [
    "tf.keras.backend.clear_session()"
   ]
  },
  {
   "cell_type": "code",
   "execution_count": 31,
   "metadata": {},
   "outputs": [],
   "source": [
    "def bert_model(max_length, train_layers):\n",
    "    \"\"\"\n",
    "    variables:\n",
    "        max_input_length: number of tokens (max_length + 1)\n",
    "        train_layers: number of layers to be retrained\n",
    "        optimizer: optimizer to be used\n",
    "    \n",
    "    returns: model\n",
    "    \"\"\"\n",
    "    \n",
    "    input_ids = tf.keras.layers.Input(shape=(max_length,), dtype='int32', name=\"input_ids\")\n",
    "    \n",
    "    bert_layer = TFBertModel.from_pretrained('bert-base-uncased')\n",
    "    \n",
    "    # Freeze layers\n",
    "    \n",
    "    if not train_layers == -1:\n",
    "        \n",
    "        retrain_layers = []\n",
    "    \n",
    "        for retrain_layer_number in range(train_layers):\n",
    "\n",
    "            layer_code = '_' + str(11 - retrain_layer_number)\n",
    "            retrain_layers.append(layer_code)\n",
    "\n",
    "        for w in bert_layer.weights:\n",
    "            if not any([x in w.name for x in retrain_layers]):\n",
    "                w._trainable = False\n",
    "\n",
    "        # End of freezing section\n",
    "    \n",
    "    bert_sequence = bert_layer(input_ids)[0]\n",
    "    \n",
    "    print('Let us check the shape of the BERT layer output:', bert_sequence)\n",
    "    \n",
    "    cls_out = keras.layers.Lambda(lambda seq: seq[:, 0, :])(bert_sequence)\n",
    "    cls_out = keras.layers.Dropout(0.5)(cls_out)\n",
    "    logits = keras.layers.Dense(units=768, activation=\"tanh\")(cls_out)\n",
    "    logits = keras.layers.Dropout(0.5)(logits)\n",
    "    logits = keras.layers.Dense(units=10, activation=\"softmax\")(logits)\n",
    "     \n",
    "    print('pred: ', logits)\n",
    "    \n",
    "    ## Prepare for multipe loss functions, although not used here\n",
    "    \n",
    "    model = tf.keras.models.Model(inputs=input_ids, outputs=logits)\n",
    "    model.build(input_shape=(None, max_length))\n",
    "\n",
    "    model.compile(\n",
    "        optimizer = keras.optimizers.Adam(1e-5), \n",
    "        loss = keras.losses.SparseCategoricalCrossentropy(from_logits=True),\n",
    "        metrics = [keras.metrics.SparseCategoricalAccuracy(name=\"acc\")]\n",
    "    )\n",
    "    \n",
    "    model.build(input_shape=(None, max_length))\n",
    "\n",
    "    return model"
   ]
  },
  {
   "cell_type": "code",
   "execution_count": 32,
   "metadata": {},
   "outputs": [
    {
     "name": "stderr",
     "output_type": "stream",
     "text": [
      "Some layers from the model checkpoint at bert-base-uncased were not used when initializing TFBertModel: ['mlm___cls', 'nsp___cls']\n",
      "- This IS expected if you are initializing TFBertModel from the checkpoint of a model trained on another task or with another architecture (e.g. initializing a BertForSequenceClassification model from a BertForPreTraining model).\n",
      "- This IS NOT expected if you are initializing TFBertModel from the checkpoint of a model that you expect to be exactly identical (initializing a BertForSequenceClassification model from a BertForSequenceClassification model).\n",
      "All the layers of TFBertModel were initialized from the model checkpoint at bert-base-uncased.\n",
      "If your task is similar to the task the model of the checkpoint was trained on, you can already use TFBertModel for predictions without further training.\n"
     ]
    },
    {
     "name": "stdout",
     "output_type": "stream",
     "text": [
      "WARNING:tensorflow:The parameters `output_attentions`, `output_hidden_states` and `use_cache` cannot be updated when calling a model.They have to be set to True/False in the config object (i.e.: `config=XConfig.from_pretrained('name', output_attentions=True)`).\n",
      "WARNING:tensorflow:AutoGraph could not transform <bound method Socket.send of <zmq.sugar.socket.Socket object at 0x7f04e4eec160>> and will run it as-is.\n",
      "Please report this to the TensorFlow team. When filing the bug, set the verbosity to 10 (on Linux, `export AUTOGRAPH_VERBOSITY=10`) and attach the full output.\n",
      "Cause: module, class, method, function, traceback, frame, or code object was expected, got cython_function_or_method\n",
      "To silence this warning, decorate the function with @tf.autograph.experimental.do_not_convert\n",
      "WARNING: AutoGraph could not transform <bound method Socket.send of <zmq.sugar.socket.Socket object at 0x7f04e4eec160>> and will run it as-is.\n",
      "Please report this to the TensorFlow team. When filing the bug, set the verbosity to 10 (on Linux, `export AUTOGRAPH_VERBOSITY=10`) and attach the full output.\n",
      "Cause: module, class, method, function, traceback, frame, or code object was expected, got cython_function_or_method\n",
      "To silence this warning, decorate the function with @tf.autograph.experimental.do_not_convert\n",
      "WARNING:tensorflow:The parameter `return_dict` cannot be set in graph mode and will always be set to `True`.\n",
      "Let us check the shape of the BERT layer output: KerasTensor(type_spec=TensorSpec(shape=(None, 194, 768), dtype=tf.float32, name=None), name='tf_bert_model/bert/encoder/layer_._11/output/LayerNorm/batchnorm/add_1:0', description=\"created by layer 'tf_bert_model'\")\n",
      "pred:  KerasTensor(type_spec=TensorSpec(shape=(None, 10), dtype=tf.float32, name=None), name='dense_1/Softmax:0', description=\"created by layer 'dense_1'\")\n"
     ]
    }
   ],
   "source": [
    "bert_model = bert_model(max_length = max(train_df.sentence_len.values), train_layers = -1)"
   ]
  },
  {
   "cell_type": "code",
   "execution_count": 33,
   "metadata": {},
   "outputs": [
    {
     "name": "stdout",
     "output_type": "stream",
     "text": [
      "Model: \"model\"\n",
      "_________________________________________________________________\n",
      "Layer (type)                 Output Shape              Param #   \n",
      "=================================================================\n",
      "input_ids (InputLayer)       [(None, 194)]             0         \n",
      "_________________________________________________________________\n",
      "tf_bert_model (TFBertModel)  TFBaseModelOutputWithPool 109482240 \n",
      "_________________________________________________________________\n",
      "lambda (Lambda)              (None, 768)               0         \n",
      "_________________________________________________________________\n",
      "dropout_37 (Dropout)         (None, 768)               0         \n",
      "_________________________________________________________________\n",
      "dense (Dense)                (None, 768)               590592    \n",
      "_________________________________________________________________\n",
      "dropout_38 (Dropout)         (None, 768)               0         \n",
      "_________________________________________________________________\n",
      "dense_1 (Dense)              (None, 10)                7690      \n",
      "=================================================================\n",
      "Total params: 110,080,522\n",
      "Trainable params: 110,080,522\n",
      "Non-trainable params: 0\n",
      "_________________________________________________________________\n"
     ]
    }
   ],
   "source": [
    "bert_model.summary()"
   ]
  },
  {
   "cell_type": "code",
   "execution_count": 34,
   "metadata": {},
   "outputs": [],
   "source": [
    "train_input = np.matrix(train_df.padded_ids.tolist())\n",
    "test_input = np.matrix(test_df.padded_ids.tolist())"
   ]
  },
  {
   "cell_type": "code",
   "execution_count": 35,
   "metadata": {},
   "outputs": [
    {
     "name": "stdout",
     "output_type": "stream",
     "text": [
      "Epoch 1/5\n",
      "WARNING:tensorflow:The parameters `output_attentions`, `output_hidden_states` and `use_cache` cannot be updated when calling a model.They have to be set to True/False in the config object (i.e.: `config=XConfig.from_pretrained('name', output_attentions=True)`).\n",
      "WARNING:tensorflow:The parameter `return_dict` cannot be set in graph mode and will always be set to `True`.\n",
      "WARNING:tensorflow:Gradients do not exist for variables ['tf_bert_model/bert/pooler/dense/kernel:0', 'tf_bert_model/bert/pooler/dense/bias:0'] when minimizing the loss.\n",
      "WARNING:tensorflow:The parameters `output_attentions`, `output_hidden_states` and `use_cache` cannot be updated when calling a model.They have to be set to True/False in the config object (i.e.: `config=XConfig.from_pretrained('name', output_attentions=True)`).\n",
      "WARNING:tensorflow:The parameter `return_dict` cannot be set in graph mode and will always be set to `True`.\n",
      "WARNING:tensorflow:Gradients do not exist for variables ['tf_bert_model/bert/pooler/dense/kernel:0', 'tf_bert_model/bert/pooler/dense/bias:0'] when minimizing the loss.\n",
      "728/728 [==============================] - ETA: 0s - loss: 2.2349 - acc: 0.2077 WARNING:tensorflow:The parameters `output_attentions`, `output_hidden_states` and `use_cache` cannot be updated when calling a model.They have to be set to True/False in the config object (i.e.: `config=XConfig.from_pretrained('name', output_attentions=True)`).\n",
      "WARNING:tensorflow:The parameter `return_dict` cannot be set in graph mode and will always be set to `True`.\n",
      "728/728 [==============================] - 13402s 18s/step - loss: 2.2342 - acc: 0.2079 - val_loss: 0.8984 - val_acc: 0.6865\n",
      "Epoch 2/5\n",
      "728/728 [==============================] - 14781s 20s/step - loss: 0.9288 - acc: 0.6741 - val_loss: 0.7474 - val_acc: 0.7389\n",
      "Epoch 3/5\n",
      "728/728 [==============================] - 15590s 21s/step - loss: 0.7373 - acc: 0.7442 - val_loss: 0.6876 - val_acc: 0.7642\n",
      "Epoch 4/5\n",
      "728/728 [==============================] - 11328s 16s/step - loss: 0.6354 - acc: 0.7806 - val_loss: 0.6706 - val_acc: 0.7714\n",
      "Epoch 5/5\n",
      "728/728 [==============================] - 10313s 14s/step - loss: 0.5512 - acc: 0.8060 - val_loss: 0.6611 - val_acc: 0.7812\n"
     ]
    }
   ],
   "source": [
    "history = bert_model.fit(\n",
    "    train_input, \n",
    "    y_train,\n",
    "    validation_data=(test_input, y_test),\n",
    "    epochs=5,\n",
    "    batch_size=32\n",
    ")"
   ]
  },
  {
   "cell_type": "markdown",
   "metadata": {},
   "source": [
    "# Results"
   ]
  },
  {
   "cell_type": "code",
   "execution_count": 43,
   "metadata": {},
   "outputs": [
    {
     "data": {
      "image/png": "[encoded data removed]",
      "text/plain": [
       "<Figure size 432x288 with 1 Axes>"
      ]
     },
     "metadata": {
      "needs_background": "light"
     },
     "output_type": "display_data"
    }
   ],
   "source": [
    "ax = plt.figure().gca()\n",
    "ax.xaxis.set_major_locator(MaxNLocator(integer=True))\n",
    "\n",
    "ax.plot(history.history['loss'])\n",
    "ax.plot(history.history['val_loss'])\n",
    "plt.ylabel('Loss')\n",
    "plt.xlabel('Epoch')\n",
    "plt.legend(['train', 'test'])\n",
    "plt.title('Model Loss')\n",
    "plt.show();"
   ]
  },
  {
   "cell_type": "code",
   "execution_count": 44,
   "metadata": {},
   "outputs": [
    {
     "data": {
      "image/png": "[encoded data removed]",
      "text/plain": [
       "<Figure size 432x288 with 1 Axes>"
      ]
     },
     "metadata": {
      "needs_background": "light"
     },
     "output_type": "display_data"
    }
   ],
   "source": [
    "ax = plt.figure().gca()\n",
    "ax.xaxis.set_major_locator(MaxNLocator(integer=True))\n",
    "\n",
    "ax.plot(history.history['acc'])\n",
    "ax.plot(history.history['val_acc'])\n",
    "plt.ylabel('Accuracy')\n",
    "plt.xlabel('Epoch')\n",
    "plt.legend(['train', 'test'])\n",
    "plt.title('Model Accuracy')\n",
    "plt.show();"
   ]
  },
  {
   "cell_type": "code",
   "execution_count": 38,
   "metadata": {
    "scrolled": true
   },
   "outputs": [
    {
     "name": "stdout",
     "output_type": "stream",
     "text": [
      "WARNING:tensorflow:The parameters `output_attentions`, `output_hidden_states` and `use_cache` cannot be updated when calling a model.They have to be set to True/False in the config object (i.e.: `config=XConfig.from_pretrained('name', output_attentions=True)`).\n",
      "WARNING:tensorflow:The parameter `return_dict` cannot be set in graph mode and will always be set to `True`.\n"
     ]
    }
   ],
   "source": [
    "y_pred = bert_model.predict(test_input).argmax(axis=-1)"
   ]
  },
  {
   "cell_type": "code",
   "execution_count": 45,
   "metadata": {},
   "outputs": [],
   "source": [
    "classes = label_encoder.classes_"
   ]
  },
  {
   "cell_type": "code",
   "execution_count": 46,
   "metadata": {},
   "outputs": [
    {
     "name": "stdout",
     "output_type": "stream",
     "text": [
      "                          precision    recall  f1-score   support\n",
      "\n",
      "Bordeaux-style Red Blend       0.78      0.87      0.82       786\n",
      "      Cabernet Sauvignon       0.69      0.65      0.67       778\n",
      "              Chardonnay       0.78      0.89      0.83       793\n",
      "                  Merlot       0.65      0.63      0.64       771\n",
      "              Pinot Noir       0.73      0.73      0.73       747\n",
      "               Red Blend       0.81      0.73      0.77       778\n",
      "                Riesling       0.94      0.88      0.91       772\n",
      "                    Rosé       0.81      0.93      0.87       780\n",
      "         Sauvignon Blanc       0.85      0.80      0.82       778\n",
      "                   Syrah       0.78      0.69      0.73       772\n",
      "\n",
      "                accuracy                           0.78      7755\n",
      "               macro avg       0.78      0.78      0.78      7755\n",
      "            weighted avg       0.78      0.78      0.78      7755\n",
      "\n"
     ]
    }
   ],
   "source": [
    "print(classification_report(y_test, y_pred, target_names=classes))"
   ]
  },
  {
   "cell_type": "code",
   "execution_count": 47,
   "metadata": {},
   "outputs": [],
   "source": [
    "cm = confusion_matrix(y_test, y_pred)\n",
    "df_cm = pd.DataFrame(cm, index=classes, columns=classes)"
   ]
  },
  {
   "cell_type": "code",
   "execution_count": 48,
   "metadata": {},
   "outputs": [
    {
     "data": {
      "image/png": "[encoded data removed]",
      "text/plain": [
       "<Figure size 432x288 with 2 Axes>"
      ]
     },
     "metadata": {
      "needs_background": "light"
     },
     "output_type": "display_data"
    }
   ],
   "source": [
    "hmap = sns.heatmap(df_cm, annot=True, fmt=\"d\")\n",
    "hmap.yaxis.set_ticklabels(hmap.yaxis.get_ticklabels(), rotation=0, ha='right')\n",
    "hmap.xaxis.set_ticklabels(hmap.xaxis.get_ticklabels(), rotation=30, ha='right')\n",
    "plt.ylabel('True label')\n",
    "plt.xlabel('Predicted label');"
   ]
  },
  {
   "cell_type": "markdown",
   "metadata": {},
   "source": [
    "# Error Analysis"
   ]
  },
  {
   "cell_type": "code",
   "execution_count": 63,
   "metadata": {},
   "outputs": [],
   "source": [
    "def get_wrong_pred(true_label, pred_label):\n",
    "    wrong_pred = []\n",
    "    t_label = label_encoder.classes_.tolist().index(true_label)\n",
    "    p_label = label_encoder.classes_.tolist().index(pred_label)\n",
    "    \n",
    "    for i in range(len(test_df.text)):\n",
    "        if y_test[i] == t_label and y_pred[i] == p_label:\n",
    "            wrong_text = test_df.text.iloc[i]\n",
    "            wrong_pred.append(wrong_text)\n",
    " \n",
    "    print(\"True Label:\", true_label, \", and Predictied Label:\", pred_label )\n",
    "    print('Number of reviews misclassified:', len(wrong_pred))\n",
    "    \n",
    "    return wrong_pred"
   ]
  },
  {
   "cell_type": "markdown",
   "metadata": {},
   "source": [
    "#### Cabernet Sauvignon and Merlot"
   ]
  },
  {
   "cell_type": "code",
   "execution_count": 64,
   "metadata": {},
   "outputs": [
    {
     "name": "stdout",
     "output_type": "stream",
     "text": [
      "True Label: Cabernet Sauvignon , and Predictied Label: Merlot\n",
      "Number of reviews misclassified: 97\n"
     ]
    }
   ],
   "source": [
    "cab_sauv_versus_merlot = get_wrong_pred(\"Cabernet Sauvignon\", \"Merlot\")"
   ]
  },
  {
   "cell_type": "code",
   "execution_count": 65,
   "metadata": {},
   "outputs": [
    {
     "name": "stdout",
     "output_type": "stream",
     "text": [
      "------------------------------------------------------------\n",
      "A healthy 20% of Merlot provides additional softness in this food-friendly, well-integrated wine, bright in crisp cranberry and mellowed oak and tannin. Well-made at a fair price, it's well worth the seek.\n",
      "------------------------------------------------------------\n",
      "Highlighted in Rainier cherry and cassis fruit, with a core of high acidity, this is a drinkable, affordable red wine worth looking for.\n",
      "------------------------------------------------------------\n",
      "This wine has aromas of coffee, toast, cherry meats, herbs, mocha and barrel spices along with a lightly green edge. It's tart and flavorful, with a supple feel and chalky tannins.\n",
      "------------------------------------------------------------\n",
      "Aromas of tire rubber, plum and spice are followed sweet currant and cranberry flavors. The tannins bring some grit.\n",
      "------------------------------------------------------------\n",
      "There's much to like in this wine's notes of cocoa and cherry, with the barrel spices bringing a sense of confection. The flavors are appealing but the tannins bring a slight feel of gruffness that holds it back.\n"
     ]
    }
   ],
   "source": [
    "# Print descriptions of misclassified reviews\n",
    "for i in cab_sauv_versus_merlot[:5]:\n",
    "    print(\"-\"*60)\n",
    "    print(i)"
   ]
  },
  {
   "cell_type": "markdown",
   "metadata": {},
   "source": [
    "#### Sauvignon Blanc and Chardonnay"
   ]
  },
  {
   "cell_type": "code",
   "execution_count": 67,
   "metadata": {
    "scrolled": true
   },
   "outputs": [
    {
     "name": "stdout",
     "output_type": "stream",
     "text": [
      "True Label: Sauvignon Blanc , and Predictied Label: Chardonnay\n",
      "Number of reviews misclassified: 115\n"
     ]
    }
   ],
   "source": [
    "sauv_blanc_versus_chard = get_wrong_pred(\"Sauvignon Blanc\", \"Chardonnay\")"
   ]
  },
  {
   "cell_type": "code",
   "execution_count": 68,
   "metadata": {},
   "outputs": [
    {
     "name": "stdout",
     "output_type": "stream",
     "text": [
      "------------------------------------------------------------\n",
      "Waxy apple opens the nose before this tame stainless-steel aged white builds flavors of pear and vanilla extract amid a medium-bodied frame. More pear, with a wrapping of gingery spice, is featured on the finish.\n",
      "------------------------------------------------------------\n",
      "From the border of the Emilia-Romagna and Lombardy regions of Northern Italy, this organic white wine shows warm aromas of peach, apricot, caramel and melon backed by touches of toasted almond and yellow rose. The mouthfeel is chewy and thick.\n",
      "------------------------------------------------------------\n",
      "This big-bodied wine is full of smoke, toast and custard in the nose, sure signs of barrel fermentation or aging. The mouth is packed with thick, custardy citrus fruit, which renders it a bit like orange-tinged flan. Fortunately, it retains its acids, which keeps it well balanced despite the heavy oaking it went through.\n",
      "------------------------------------------------------------\n",
      "Coming from the warm 2013 vintage, this is an aromatic offering, with notes of pineapple, kiwi, herbs and oak spices (40% barrel fermented). It's creamy in feel, but with tart, vibrant acidity that keeps the palate fresh and lively.\n",
      "------------------------------------------------------------\n",
      "Clean notes of apple, melon and lime peel unfold of the nose and carry through to the lightweight mouth. There's ample acidity to keep the palate fresh, with a short finish.\n"
     ]
    }
   ],
   "source": [
    "# Print descriptions of misclassified reviews\n",
    "for i in sauv_blanc_versus_chard[:5]:\n",
    "    print(\"-\"*60)\n",
    "    print(i)"
   ]
  },
  {
   "cell_type": "markdown",
   "metadata": {},
   "source": [
    "### Wine Variety Vocabulary"
   ]
  },
  {
   "cell_type": "code",
   "execution_count": 71,
   "metadata": {},
   "outputs": [],
   "source": [
    "from string import punctuation\n",
    "\n",
    "\n",
    "def get_top_counts(X, vec):\n",
    "    counts = np.array(np.sum(X, axis=0))[0]\n",
    "    vocab_inv = {k: counts[v] for k, v in vec.vocabulary_.items()}\n",
    "    return vocab_inv\n",
    "\n",
    "def get_most_common(counts_dict, n=None):\n",
    "    words = np.array(list(counts_dict.keys()))\n",
    "    counts = np.array(list(counts_dict.values()))\n",
    "    \n",
    "    counts_sorted_idx = np.argsort(counts)[::-1]\n",
    "    if n:\n",
    "        counts_sorted_idx = counts_sorted_idx[:n]\n",
    "        \n",
    "    return words[counts_sorted_idx], counts[counts_sorted_idx]\n",
    "normal_stopwords = nltk.corpus.stopwords.words('english')\n",
    "top_domain_specific_words = []\n",
    "n = 10\n",
    "\n",
    "vec = CountVectorizer(\n",
    "    lowercase=True,\n",
    "    stop_words=normal_stopwords,\n",
    "    ngram_range=(1, 1,),\n",
    "    min_df=10\n",
    ")\n",
    "X =  vec.fit_transform(data['description'])\n",
    "\n",
    "temp_counts = get_top_counts(X, vec)\n",
    "most_common_words, most_common_counts = get_most_common(temp_counts, n=n)\n",
    "        \n",
    "stop_words = list(most_common_words) + normal_stopwords + list(punctuation)\n",
    "stop_words = set(stop_words)"
   ]
  },
  {
   "cell_type": "code",
   "execution_count": 72,
   "metadata": {},
   "outputs": [],
   "source": [
    "def get_vec(data, **kwargs):\n",
    "    vec = CountVectorizer(\n",
    "        lowercase=True,\n",
    "        stop_words=stop_words,\n",
    "        **kwargs\n",
    "    )\n",
    "    return vec.fit_transform(data), vec\n",
    "        \n",
    "def print_top_counts(X, vec, title='Top Counts', n=10):\n",
    "    vocab_counts = get_top_counts(X, vec)\n",
    "    \n",
    "    vocab, counts = get_most_common(vocab_counts, n=n)\n",
    "    print(title)\n",
    "    for v, c in zip(vocab, counts):\n",
    "        print(f'\\t{v}: {c}')"
   ]
  },
  {
   "cell_type": "code",
   "execution_count": 73,
   "metadata": {},
   "outputs": [],
   "source": [
    "varieties = variety_count.index[:10]\n",
    "variety_vocabs = {}\n",
    "for i in varieties:\n",
    "    variety_descriptions = data[data['variety'] == i]['description']\n",
    "    variety_vocabs[i] = get_vec(variety_descriptions, ngram_range=(1,1))"
   ]
  },
  {
   "cell_type": "code",
   "execution_count": 74,
   "metadata": {},
   "outputs": [
    {
     "name": "stdout",
     "output_type": "stream",
     "text": [
      "Merlot counts:\n",
      "\tmerlot: 1287\n",
      "\tred: 772\n",
      "\tplum: 688\n",
      "\toak: 646\n",
      "\tsoft: 542\n",
      "\tspice: 493\n",
      "\tberry: 484\n",
      "\tripe: 480\n",
      "\tdry: 478\n",
      "\tnotes: 464\n",
      "Cabernet Sauvignon counts:\n",
      "\tcabernet: 3170\n",
      "\toak: 2624\n",
      "\tblackberry: 2430\n",
      "\tcassis: 1710\n",
      "\tdrink: 1585\n",
      "\tchocolate: 1564\n",
      "\tripe: 1526\n",
      "\tred: 1480\n",
      "\tplum: 1467\n",
      "\tcurrant: 1454\n"
     ]
    }
   ],
   "source": [
    "red_variety = ['Merlot', 'Cabernet Sauvignon']\n",
    "n = 10\n",
    "for name in red_variety:\n",
    "    variety_X, vec = variety_vocabs[name]\n",
    "    print_top_counts(variety_X, vec, title=f'{name} counts:', n=n)"
   ]
  },
  {
   "cell_type": "code",
   "execution_count": 75,
   "metadata": {},
   "outputs": [
    {
     "name": "stdout",
     "output_type": "stream",
     "text": [
      "Sauvignon Blanc counts:\n",
      "\tgreen: 1483\n",
      "\tcitrus: 1443\n",
      "\tsauvignon: 1314\n",
      "\tblanc: 1189\n",
      "\tcrisp: 1129\n",
      "\tdrink: 1046\n",
      "\tlime: 1034\n",
      "\tgrapefruit: 987\n",
      "\tfresh: 930\n",
      "\tripe: 898\n",
      "Chardonnay counts:\n",
      "\tapple: 3926\n",
      "\tchardonnay: 3315\n",
      "\toak: 2877\n",
      "\tripe: 2811\n",
      "\tdrink: 2459\n",
      "\tlemon: 2298\n",
      "\tpear: 2193\n",
      "\tcrisp: 2112\n",
      "\trich: 2110\n",
      "\tvanilla: 1992\n"
     ]
    }
   ],
   "source": [
    "white_variety = ['Sauvignon Blanc', 'Chardonnay']\n",
    "n = 10\n",
    "for name in white_variety:\n",
    "    variety_X, vec = variety_vocabs[name]\n",
    "    print_top_counts(variety_X, vec, title=f'{name} counts:', n=n)"
   ]
  },
  {
   "cell_type": "code",
   "execution_count": null,
   "metadata": {},
   "outputs": [],
   "source": []
  }
 ],
 "metadata": {
  "kernelspec": {
   "display_name": "Python 3",
   "language": "python",
   "name": "python3"
  },
  "language_info": {
   "codemirror_mode": {
    "name": "ipython",
    "version": 3
   },
   "file_extension": ".py",
   "mimetype": "text/x-python",
   "name": "python",
   "nbconvert_exporter": "python",
   "pygments_lexer": "ipython3",
   "version": "3.8.3"
  }
 },
 "nbformat": 4,
 "nbformat_minor": 4
}
